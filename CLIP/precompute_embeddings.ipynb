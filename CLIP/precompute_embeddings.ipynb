{
 "cells": [
  {
   "cell_type": "markdown",
   "id": "8b8dcc28-80d9-463a-bc8f-55db99001d84",
   "metadata": {},
   "source": [
    "### Script to Precompute the Image Vector Embeddings"
   ]
  },
  {
   "cell_type": "code",
   "execution_count": 1,
   "id": "3399af3c-3ee2-4c87-b7ee-5fd20c20421b",
   "metadata": {},
   "outputs": [],
   "source": [
    "import torch\n",
    "import clip\n",
    "import os\n",
    "import matplotlib.pyplot as plt\n",
    "\n",
    "from torch.utils.data import DataLoader\n",
    "from torchvision import datasets, transforms"
   ]
  },
  {
   "cell_type": "code",
   "execution_count": 2,
   "id": "4ed3c456-e690-4941-9053-b2aee6452bb5",
   "metadata": {},
   "outputs": [],
   "source": [
    "def save_embeddings(images_path, embeddings_path):\n",
    "    '''\n",
    "    '''\n",
    "    device = 'cuda' if torch.cuda.is_available() else 'cpu'\n",
    "    \n",
    "    model, _ = clip.load('ViT-B/32', device)\n",
    "    transform = transforms.Compose([\n",
    "        transforms.Resize((224, 224)),\n",
    "        transforms.ToTensor(),\n",
    "        transforms.ConvertImageDtype(torch.float16)\n",
    "    ])\n",
    "    \n",
    "    dataset = datasets.ImageFolder(images_path, transform=transform)\n",
    "    dataloader = DataLoader(dataset, batch_size=1, shuffle=False)\n",
    "\n",
    "    image_folders = [label_name for label_name in os.listdir(images_path)]\n",
    "    image_folders = sorted(image_folders)\n",
    "    \n",
    "    assert len(image_folders) == 101\n",
    "\n",
    "    for i, data in enumerate(dataloader):\n",
    "        img, label = data\n",
    "        embedding = model.visual(img.to(device))\n",
    "\n",
    "        file_path, _ = dataset.samples[i]\n",
    "        file_basename = os.path.basename(file_path)\n",
    "        file_name = os.path.splitext(file_basename)[0]\n",
    "\n",
    "        label_folder = embeddings_path + image_folders[label] + \"/\"\n",
    "        new_path = label_folder + file_name + \".pt\"\n",
    "\n",
    "        if not os.path.exists(label_folder):\n",
    "            os.makedirs(label_folder)\n",
    "        \n",
    "        torch.save(embedding, new_path)"
   ]
  },
  {
   "cell_type": "code",
   "execution_count": 3,
   "id": "56a51ae7-1927-4d06-be55-caa636433cf0",
   "metadata": {},
   "outputs": [],
   "source": [
    "chopped_path = \"/projectnb/ec523kb/projects/chopped_data/\""
   ]
  },
  {
   "cell_type": "markdown",
   "id": "c4baa53c-e289-4db7-9212-420364c0b1f1",
   "metadata": {},
   "source": [
    "### Precompute 10%\n",
    "Executed 12-6-2023 7:45pm"
   ]
  },
  {
   "cell_type": "code",
   "execution_count": 80,
   "id": "73690e60-21e7-4163-b08f-d72624e5844c",
   "metadata": {},
   "outputs": [],
   "source": [
    "datapath_10 = chopped_path + \"food101_10percent/\"\n",
    "save_embeddings(datapath_10 + \"train/\", datapath_10 + \"embeddings/\")"
   ]
  },
  {
   "cell_type": "markdown",
   "id": "409ac9c6-82fe-45aa-9966-bdebb9f49739",
   "metadata": {},
   "source": [
    "### Precompute 100%\n",
    "Executed 12-8-2023 12:34am"
   ]
  },
  {
   "cell_type": "code",
   "execution_count": 5,
   "id": "ed5b9712-e1ab-44b6-9245-1c7336600ef3",
   "metadata": {},
   "outputs": [
    {
     "name": "stderr",
     "output_type": "stream",
     "text": [
      "/projectnb/ec523kb/students/chrisdc/.conda/envs/chopped/lib/python3.11/site-packages/torch/nn/modules/conv.py:456: UserWarning: Applied workaround for CuDNN issue, install nvrtc.so (Triggered internally at /opt/conda/conda-bld/pytorch_1699449183005/work/aten/src/ATen/native/cudnn/Conv_v8.cpp:80.)\n",
      "  return F.conv2d(input, weight, bias, self.stride,\n"
     ]
    }
   ],
   "source": [
    "datapath_100 = chopped_path + \"food101_100percent/\"\n",
    "save_embeddings(datapath_100 + \"train/\", datapath_100 + \"embeddings/\")"
   ]
  },
  {
   "cell_type": "markdown",
   "id": "59a237d9-808c-4441-a7b3-7875c850becd",
   "metadata": {},
   "source": [
    "## Precompute 40%\n",
    "Executed 12-8-23 3:25pm"
   ]
  },
  {
   "cell_type": "code",
   "execution_count": 4,
   "id": "a47250de-5932-4c78-a8ff-cc0d59a1eb26",
   "metadata": {},
   "outputs": [
    {
     "name": "stderr",
     "output_type": "stream",
     "text": [
      "/projectnb/ec523kb/students/chrisdc/.conda/envs/chopped/lib/python3.11/site-packages/torch/nn/modules/conv.py:456: UserWarning: Applied workaround for CuDNN issue, install nvrtc.so (Triggered internally at /opt/conda/conda-bld/pytorch_1699449183005/work/aten/src/ATen/native/cudnn/Conv_v8.cpp:80.)\n",
      "  return F.conv2d(input, weight, bias, self.stride,\n"
     ]
    }
   ],
   "source": [
    "datapath_40 = chopped_path + \"food101_40percent/\"\n",
    "save_embeddings(datapath_40 + \"train/\", datapath_40 + \"embeddings/\")"
   ]
  },
  {
   "cell_type": "markdown",
   "id": "3d07aacf-c49f-4d96-842d-533abc9667e6",
   "metadata": {},
   "source": [
    "# Precompute 60% \n",
    "Executed 12-8-23 5:37pm"
   ]
  },
  {
   "cell_type": "code",
   "execution_count": 4,
   "id": "b794431d-f929-47d1-b0e5-9a8cec140c6c",
   "metadata": {},
   "outputs": [
    {
     "name": "stderr",
     "output_type": "stream",
     "text": [
      "/projectnb/ec523kb/students/chrisdc/.conda/envs/chopped/lib/python3.11/site-packages/torch/nn/modules/conv.py:456: UserWarning: Applied workaround for CuDNN issue, install nvrtc.so (Triggered internally at /opt/conda/conda-bld/pytorch_1699449183005/work/aten/src/ATen/native/cudnn/Conv_v8.cpp:80.)\n",
      "  return F.conv2d(input, weight, bias, self.stride,\n"
     ]
    }
   ],
   "source": [
    "datapath_60 = chopped_path + \"food101_60percent/\"\n",
    "save_embeddings(datapath_60 + \"train/\", datapath_60 + \"embeddings/\")"
   ]
  },
  {
   "cell_type": "code",
   "execution_count": null,
   "id": "67b185e2-78ab-49e5-ac01-a977971c4d3c",
   "metadata": {},
   "outputs": [],
   "source": []
  }
 ],
 "metadata": {
  "kernelspec": {
   "display_name": "Python 3 (ipykernel)",
   "language": "python",
   "name": "python3"
  },
  "language_info": {
   "codemirror_mode": {
    "name": "ipython",
    "version": 3
   },
   "file_extension": ".py",
   "mimetype": "text/x-python",
   "name": "python",
   "nbconvert_exporter": "python",
   "pygments_lexer": "ipython3",
   "version": "3.11.5"
  }
 },
 "nbformat": 4,
 "nbformat_minor": 5
}
