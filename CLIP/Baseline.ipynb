{
 "cells": [
  {
   "cell_type": "code",
   "execution_count": 1,
   "id": "d5a95776-0909-46a8-a852-b414f0ada2a5",
   "metadata": {},
   "outputs": [],
   "source": [
    "import torch\n",
    "import matplotlib.pyplot as plt\n",
    "import torch.nn.functional as F\n",
    "import torch.nn as nn\n",
    "import numpy as np\n",
    "import os\n",
    "import math\n",
    "import clip\n",
    "from model import ClipClassify\n",
    "import json\n",
    "import time\n",
    "\n",
    "from torchvision import datasets, transforms\n",
    "from torch.utils.data import DataLoader, Subset"
   ]
  },
  {
   "cell_type": "code",
   "execution_count": 2,
   "id": "f4738f45-c23f-4a94-bfc8-b4325ddf15a5",
   "metadata": {},
   "outputs": [],
   "source": [
    "device = 'cuda'\n",
    "model, _ = clip.load('ViT-B/32', device)"
   ]
  },
  {
   "cell_type": "code",
   "execution_count": 24,
   "id": "4e655ca3-27e9-4668-9f62-daf9ffdd7044",
   "metadata": {},
   "outputs": [],
   "source": [
    "path_test_dataset = \"/projectnb/ec523kb/projects/chopped_data/food101_test/\"\n",
    "file_names = [name for name in os.listdir(path_test_dataset)]\n",
    "file_names = sorted(file_names)\n",
    "label_names = file_names\n",
    "file_names = [name.replace('_', ' ') for name in file_names]\n",
    "captions = [f\"A photo of {name}\" for name in file_names]"
   ]
  },
  {
   "cell_type": "code",
   "execution_count": 3,
   "id": "077d8a09-8dc0-418a-b42d-314f9f2a7e94",
   "metadata": {},
   "outputs": [],
   "source": [
    "transform = transforms.Compose([\n",
    "        transforms.Resize((224, 224)),\n",
    "        transforms.ToTensor(),\n",
    "        transforms.ConvertImageDtype(torch.float16)\n",
    "        ])"
   ]
  },
  {
   "cell_type": "code",
   "execution_count": 32,
   "id": "81640183-f75a-411d-b5bf-d6064b4e6da6",
   "metadata": {},
   "outputs": [
    {
     "ename": "TypeError",
     "evalue": "ImageFolder.__init__() got an unexpected keyword argument 'transforms'",
     "output_type": "error",
     "traceback": [
      "\u001b[0;31m---------------------------------------------------------------------------\u001b[0m",
      "\u001b[0;31mTypeError\u001b[0m                                 Traceback (most recent call last)",
      "Cell \u001b[0;32mIn[32], line 9\u001b[0m\n\u001b[1;32m      6\u001b[0m test_dataset \u001b[38;5;241m=\u001b[39m datasets\u001b[38;5;241m.\u001b[39mImageFolder(path_test_dataset, transform\u001b[38;5;241m=\u001b[39mtransform)\n\u001b[1;32m      7\u001b[0m dataloader_test \u001b[38;5;241m=\u001b[39m DataLoader(test_dataset, batch_size\u001b[38;5;241m=\u001b[39m\u001b[38;5;241m10\u001b[39m, shuffle\u001b[38;5;241m=\u001b[39m\u001b[38;5;28;01mTrue\u001b[39;00m)\n\u001b[0;32m----> 9\u001b[0m dataset_1per \u001b[38;5;241m=\u001b[39m datasets\u001b[38;5;241m.\u001b[39mImageFolder(\u001b[38;5;124m\"\u001b[39m\u001b[38;5;124m/projectnb/ec523kb/projects/chopped_data/food101_1percent/\u001b[39m\u001b[38;5;124m\"\u001b[39m, transforms\u001b[38;5;241m=\u001b[39mtransform)\n\u001b[1;32m     10\u001b[0m dataloader_1per \u001b[38;5;241m=\u001b[39m DataLoader(dataset_1per, batch_size\u001b[38;5;241m=\u001b[39m\u001b[38;5;241m10\u001b[39m, shuffle\u001b[38;5;241m=\u001b[39m\u001b[38;5;28;01mTrue\u001b[39;00m)\n",
      "\u001b[0;31mTypeError\u001b[0m: ImageFolder.__init__() got an unexpected keyword argument 'transforms'"
     ]
    }
   ],
   "source": [
    "transform = transforms.Compose([\n",
    "        transforms.Resize((224, 224)),\n",
    "        transforms.ToTensor(),\n",
    "        transforms.ConvertImageDtype(torch.float16)\n",
    "        ])\n",
    "test_dataset = datasets.ImageFolder(path_test_dataset, transform=transform)\n",
    "dataloader_test = DataLoader(test_dataset, batch_size=10, shuffle=True)\n"
   ]
  },
  {
   "cell_type": "code",
   "execution_count": 34,
   "id": "a199ed08-aeb6-4373-9132-daabc0525565",
   "metadata": {},
   "outputs": [],
   "source": [
    "\n",
    "dataset_1per = datasets.ImageFolder(\"/projectnb/ec523kb/projects/chopped_data/food101_100percent/train/\", transform=transform)\n",
    "dataloader_1per = DataLoader(dataset_1per, batch_size=10, shuffle=True)"
   ]
  },
  {
   "cell_type": "code",
   "execution_count": 31,
   "id": "29ac8337-ad0d-46c1-80b8-a2918c76d6ad",
   "metadata": {},
   "outputs": [
    {
     "name": "stdout",
     "output_type": "stream",
     "text": [
      "begin testing\n",
      "accuracy = 70.65346534653466\n"
     ]
    }
   ],
   "source": [
    "with torch.no_grad():\n",
    "    \n",
    "    caption_inputs = torch.cat([clip.tokenize(caption) for caption in captions]).to(device)\n",
    "    text_feat = model.encode_text(caption_inputs)\n",
    "    text_feat /= text_feat.norm(dim=-1, keepdim=True)\n",
    "\n",
    "    correct = 0\n",
    "    total = 0\n",
    "\n",
    "    print(\"begin testing\")\n",
    "    for data in dataloader_test:\n",
    "        inputs, labels = data\n",
    "        inputs = inputs.to(device)\n",
    "        labels = labels.to(device)\n",
    "        img_feat = model.visual(inputs)\n",
    "\n",
    "        img_feat /= img_feat.norm(dim=-1, keepdim=True)\n",
    "\n",
    "        similarity = (100.0 * img_feat @ text_feat.T).softmax(dim=-1)\n",
    "\n",
    "        predicted = torch.argmax(similarity, dim=-1)\n",
    "\n",
    "        total += labels.size(0)\n",
    "        correct += (predicted == labels).sum().item()\n",
    "\n",
    "accuracy = 100 * correct / total\n",
    "print(f'accuracy = {accuracy}')\n",
    "\n",
    "        \n",
    "    "
   ]
  },
  {
   "cell_type": "code",
   "execution_count": 35,
   "id": "e5674bec-bed9-4c8e-8b45-f1624c526ecc",
   "metadata": {},
   "outputs": [
    {
     "name": "stdout",
     "output_type": "stream",
     "text": [
      "begin testing\n",
      "accuracy = 64.69323394495413\n"
     ]
    }
   ],
   "source": [
    "with torch.no_grad():\n",
    "    \n",
    "    caption_inputs = torch.cat([clip.tokenize(caption) for caption in captions]).to(device)\n",
    "    text_feat = model.encode_text(caption_inputs)\n",
    "    text_feat /= text_feat.norm(dim=-1, keepdim=True)\n",
    "\n",
    "    correct = 0\n",
    "    total = 0\n",
    "\n",
    "    print(\"begin testing\")\n",
    "    for data in dataloader_1per:\n",
    "        inputs, labels = data\n",
    "        inputs = inputs.to(device)\n",
    "        labels = labels.to(device)\n",
    "        img_feat = model.visual(inputs)\n",
    "\n",
    "        img_feat /= img_feat.norm(dim=-1, keepdim=True)\n",
    "\n",
    "        similarity = (100.0 * img_feat @ text_feat.T).softmax(dim=-1)\n",
    "\n",
    "        predicted = torch.argmax(similarity, dim=-1)\n",
    "\n",
    "        total += labels.size(0)\n",
    "        correct += (predicted == labels).sum().item()\n",
    "\n",
    "accuracy = 100 * correct / total\n",
    "print(f'accuracy = {accuracy}')"
   ]
  },
  {
   "cell_type": "markdown",
   "id": "648c947c-04fd-46fd-8356-5eefaff3cf6a",
   "metadata": {},
   "source": [
    "# Filipino Food Zero Shot"
   ]
  },
  {
   "cell_type": "code",
   "execution_count": 27,
   "id": "e9fe0e4a-d8ef-43e1-ad8c-3a411fcc0216",
   "metadata": {},
   "outputs": [],
   "source": [
    "path_test_dataset = \"/projectnb/ec523kb/projects/chopped_data/filipino_food_data/test/\"\n",
    "path_train_dataset = \"/projectnb/ec523kb/projects/chopped_data/filipino_food_data/train/\"\n",
    "file_names = [name for name in os.listdir(path_test_dataset)]\n",
    "file_names = sorted(file_names)\n",
    "file_names.pop(0)\n",
    "label_names = file_names\n",
    "file_names = [name.replace('_', ' ') for name in file_names]\n",
    "captions = [f\"A photo of {name}\" for name in file_names]\n",
    "captions = [\"A photo of chicharon\", \"A photo of lumpia\", \"A photo of ube\"]"
   ]
  },
  {
   "cell_type": "code",
   "execution_count": 11,
   "id": "5d511a41-90c6-4dbf-8a55-b48071557de3",
   "metadata": {},
   "outputs": [
    {
     "name": "stdout",
     "output_type": "stream",
     "text": [
      "['chicharon', 'lumpia', 'ube_ice_cream']\n"
     ]
    }
   ],
   "source": [
    "print(label_names)"
   ]
  },
  {
   "cell_type": "code",
   "execution_count": 28,
   "id": "d3afdf3e-1311-4ac6-b236-0d1a6b39e343",
   "metadata": {},
   "outputs": [],
   "source": [
    "test_dataset = datasets.ImageFolder(path_test_dataset, transform=transform)\n",
    "dataloader_test = DataLoader(test_dataset, batch_size=10, shuffle=True)\n",
    "train_dataset = datasets.ImageFolder(path_train_dataset, transform=transform)\n",
    "dataloader_train = DataLoader(train_dataset, batch_size=10, shuffle=True)"
   ]
  },
  {
   "cell_type": "code",
   "execution_count": 29,
   "id": "5d817703-519c-49c3-abe3-259ad7c51db1",
   "metadata": {},
   "outputs": [
    {
     "name": "stdout",
     "output_type": "stream",
     "text": [
      "begin testing\n",
      "133\n",
      "144\n",
      "accuracy = 92.36111111111111\n"
     ]
    }
   ],
   "source": [
    "with torch.no_grad():\n",
    "    \n",
    "    caption_inputs = torch.cat([clip.tokenize(caption) for caption in captions]).to(device)\n",
    "    text_feat = model.encode_text(caption_inputs)\n",
    "    text_feat /= text_feat.norm(dim=-1, keepdim=True)\n",
    "\n",
    "    correct = 0\n",
    "    total = 0\n",
    "\n",
    "    print(\"begin testing\")\n",
    "    for data in dataloader_test:\n",
    "        inputs, labels = data\n",
    "\n",
    "        inputs = inputs.to(device)\n",
    "        labels = labels.to(device)\n",
    "        img_feat = model.visual(inputs)\n",
    "\n",
    "        img_feat /= img_feat.norm(dim=-1, keepdim=True)\n",
    "\n",
    "        similarity = (100.0 * img_feat @ text_feat.T).softmax(dim=-1)\n",
    "\n",
    "        predicted = torch.argmax(similarity, dim=-1)\n",
    "\n",
    "        total += labels.size(0)\n",
    "        correct += (predicted == labels).sum().item()\n",
    "\n",
    "accuracy = 100* correct / total\n",
    "\n",
    "print(correct)\n",
    "print(total)\n",
    "print(f'accuracy = {accuracy}')"
   ]
  },
  {
   "cell_type": "code",
   "execution_count": 26,
   "id": "e08c0e77-1277-42ab-a45e-bdd0125e5ed3",
   "metadata": {},
   "outputs": [
    {
     "name": "stdout",
     "output_type": "stream",
     "text": [
      "begin testing\n",
      "accuracy = 100.0\n"
     ]
    }
   ],
   "source": [
    "with torch.no_grad():\n",
    "    \n",
    "    caption_inputs = torch.cat([clip.tokenize(caption) for caption in captions]).to(device)\n",
    "    text_feat = model.encode_text(caption_inputs)\n",
    "    text_feat /= text_feat.norm(dim=-1, keepdim=True)\n",
    "\n",
    "    correct = 0\n",
    "    total = 0\n",
    "\n",
    "    print(\"begin testing\")\n",
    "    for data in dataloader_train:\n",
    "        inputs, labels = data\n",
    "\n",
    "        inputs = inputs.to(device)\n",
    "        labels = labels.to(device)\n",
    "        img_feat = model.visual(inputs)\n",
    "\n",
    "        img_feat /= img_feat.norm(dim=-1, keepdim=True)\n",
    "\n",
    "        similarity = (100.0 * img_feat @ text_feat.T).softmax(dim=-1)\n",
    "\n",
    "        predicted = torch.argmax(similarity, dim=-1)\n",
    "\n",
    "        total += labels.size(0)\n",
    "        correct += (predicted == labels).sum().item()\n",
    "\n",
    "accuracy = 100 * correct / total\n",
    "\n",
    "print(f'accuracy = {accuracy}')"
   ]
  },
  {
   "cell_type": "raw",
   "id": "9e62df06-a10a-4590-b393-be51cebd94ac",
   "metadata": {},
   "source": []
  }
 ],
 "metadata": {
  "kernelspec": {
   "display_name": "Python 3 (ipykernel)",
   "language": "python",
   "name": "python3"
  },
  "language_info": {
   "codemirror_mode": {
    "name": "ipython",
    "version": 3
   },
   "file_extension": ".py",
   "mimetype": "text/x-python",
   "name": "python",
   "nbconvert_exporter": "python",
   "pygments_lexer": "ipython3",
   "version": "3.11.5"
  }
 },
 "nbformat": 4,
 "nbformat_minor": 5
}
